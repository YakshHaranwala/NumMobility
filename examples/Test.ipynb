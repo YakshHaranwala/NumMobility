{
 "cells": [
  {
   "cell_type": "code",
   "execution_count": 1,
   "metadata": {
    "collapsed": true,
    "ExecuteTime": {
     "start_time": "2023-04-22T17:08:41.147716Z",
     "end_time": "2023-04-22T17:08:42.579737Z"
    }
   },
   "outputs": [],
   "source": [
    "from ptrail.core.Datasets import Datasets\n",
    "import pandas as pd"
   ]
  },
  {
   "cell_type": "code",
   "execution_count": 5,
   "outputs": [
    {
     "data": {
      "text/plain": "           trajectory                 time      lat       lon   sog    cog  \\\nmmsi                                                                         \n316002721           0  2020-04-06 05:42:48  37.6018 -122.6299   9.2  316.2   \n316002721           0  2020-04-06 05:45:48  37.6074 -122.6357   8.8  323.8   \n316002721           0  2020-04-06 05:47:17  37.6102 -122.6386   8.4  319.3   \n316002721           0  2020-04-06 05:50:18  37.6159 -122.6445   8.7  317.9   \n316002721           0  2020-04-06 05:51:19  37.6178 -122.6464   8.2  321.1   \n...               ...                  ...      ...       ...   ...    ...   \n368141480          54  2020-05-31 00:38:22  37.7700 -122.8892  10.1  333.4   \n368141480          54  2020-05-31 00:39:31  37.7728 -122.8913  10.6  323.7   \n368141480          54  2020-05-31 00:40:41  37.7755 -122.8939  10.3  323.2   \n368141480          54  2020-05-31 00:41:51  37.7785 -122.8960  10.3  331.5   \n368141480          54  2020-05-31 00:43:02  37.7813 -122.8983  10.4  324.3   \n\n           vessel_type                      flag  \nmmsi                                              \n316002721           30                    Canada  \n316002721           30                    Canada  \n316002721           30                    Canada  \n316002721           30                    Canada  \n316002721           30                    Canada  \n...                ...                       ...  \n368141480           30  United States of America  \n368141480           30  United States of America  \n368141480           30  United States of America  \n368141480           30  United States of America  \n368141480           30  United States of America  \n\n[70738 rows x 8 columns]",
      "text/html": "<div>\n<style scoped>\n    .dataframe tbody tr th:only-of-type {\n        vertical-align: middle;\n    }\n\n    .dataframe tbody tr th {\n        vertical-align: top;\n    }\n\n    .dataframe thead th {\n        text-align: right;\n    }\n</style>\n<table border=\"1\" class=\"dataframe\">\n  <thead>\n    <tr style=\"text-align: right;\">\n      <th></th>\n      <th>trajectory</th>\n      <th>time</th>\n      <th>lat</th>\n      <th>lon</th>\n      <th>sog</th>\n      <th>cog</th>\n      <th>vessel_type</th>\n      <th>flag</th>\n    </tr>\n    <tr>\n      <th>mmsi</th>\n      <th></th>\n      <th></th>\n      <th></th>\n      <th></th>\n      <th></th>\n      <th></th>\n      <th></th>\n      <th></th>\n    </tr>\n  </thead>\n  <tbody>\n    <tr>\n      <th>316002721</th>\n      <td>0</td>\n      <td>2020-04-06 05:42:48</td>\n      <td>37.6018</td>\n      <td>-122.6299</td>\n      <td>9.2</td>\n      <td>316.2</td>\n      <td>30</td>\n      <td>Canada</td>\n    </tr>\n    <tr>\n      <th>316002721</th>\n      <td>0</td>\n      <td>2020-04-06 05:45:48</td>\n      <td>37.6074</td>\n      <td>-122.6357</td>\n      <td>8.8</td>\n      <td>323.8</td>\n      <td>30</td>\n      <td>Canada</td>\n    </tr>\n    <tr>\n      <th>316002721</th>\n      <td>0</td>\n      <td>2020-04-06 05:47:17</td>\n      <td>37.6102</td>\n      <td>-122.6386</td>\n      <td>8.4</td>\n      <td>319.3</td>\n      <td>30</td>\n      <td>Canada</td>\n    </tr>\n    <tr>\n      <th>316002721</th>\n      <td>0</td>\n      <td>2020-04-06 05:50:18</td>\n      <td>37.6159</td>\n      <td>-122.6445</td>\n      <td>8.7</td>\n      <td>317.9</td>\n      <td>30</td>\n      <td>Canada</td>\n    </tr>\n    <tr>\n      <th>316002721</th>\n      <td>0</td>\n      <td>2020-04-06 05:51:19</td>\n      <td>37.6178</td>\n      <td>-122.6464</td>\n      <td>8.2</td>\n      <td>321.1</td>\n      <td>30</td>\n      <td>Canada</td>\n    </tr>\n    <tr>\n      <th>...</th>\n      <td>...</td>\n      <td>...</td>\n      <td>...</td>\n      <td>...</td>\n      <td>...</td>\n      <td>...</td>\n      <td>...</td>\n      <td>...</td>\n    </tr>\n    <tr>\n      <th>368141480</th>\n      <td>54</td>\n      <td>2020-05-31 00:38:22</td>\n      <td>37.7700</td>\n      <td>-122.8892</td>\n      <td>10.1</td>\n      <td>333.4</td>\n      <td>30</td>\n      <td>United States of America</td>\n    </tr>\n    <tr>\n      <th>368141480</th>\n      <td>54</td>\n      <td>2020-05-31 00:39:31</td>\n      <td>37.7728</td>\n      <td>-122.8913</td>\n      <td>10.6</td>\n      <td>323.7</td>\n      <td>30</td>\n      <td>United States of America</td>\n    </tr>\n    <tr>\n      <th>368141480</th>\n      <td>54</td>\n      <td>2020-05-31 00:40:41</td>\n      <td>37.7755</td>\n      <td>-122.8939</td>\n      <td>10.3</td>\n      <td>323.2</td>\n      <td>30</td>\n      <td>United States of America</td>\n    </tr>\n    <tr>\n      <th>368141480</th>\n      <td>54</td>\n      <td>2020-05-31 00:41:51</td>\n      <td>37.7785</td>\n      <td>-122.8960</td>\n      <td>10.3</td>\n      <td>331.5</td>\n      <td>30</td>\n      <td>United States of America</td>\n    </tr>\n    <tr>\n      <th>368141480</th>\n      <td>54</td>\n      <td>2020-05-31 00:43:02</td>\n      <td>37.7813</td>\n      <td>-122.8983</td>\n      <td>10.4</td>\n      <td>324.3</td>\n      <td>30</td>\n      <td>United States of America</td>\n    </tr>\n  </tbody>\n</table>\n<p>70738 rows × 8 columns</p>\n</div>"
     },
     "execution_count": 5,
     "metadata": {},
     "output_type": "execute_result"
    }
   ],
   "source": [
    "data = pd.read_csv('./data/compression_data.csv')\n",
    "data = data.set_index('mmsi')\n",
    "data"
   ],
   "metadata": {
    "collapsed": false,
    "ExecuteTime": {
     "start_time": "2023-04-22T17:08:53.317448Z",
     "end_time": "2023-04-22T17:08:53.400452Z"
    }
   }
  },
  {
   "cell_type": "code",
   "execution_count": 8,
   "outputs": [
    {
     "data": {
      "text/plain": "           trajectory                 time      lat       lon  sog    cog  \\\nmmsi                                                                        \n316002721           0  2020-04-06 05:42:48  37.6018 -122.6299  9.2  316.2   \n316002721           0  2020-04-06 05:45:48  37.6074 -122.6357  8.8  323.8   \n316002721           0  2020-04-06 05:47:17  37.6102 -122.6386  8.4  319.3   \n316002721           0  2020-04-06 05:50:18  37.6159 -122.6445  8.7  317.9   \n316002721           0  2020-04-06 05:51:19  37.6178 -122.6464  8.2  321.1   \n...               ...                  ...      ...       ...  ...    ...   \n316002721           0  2020-04-07 21:10:47  37.6125 -122.6912  9.5  159.5   \n316002721           0  2020-04-07 21:12:17  37.6091 -122.6892  8.6  155.8   \n316002721           0  2020-04-07 21:13:47  37.6057 -122.6873  8.6  157.7   \n316002721           0  2020-04-07 21:14:48  37.6034 -122.6860  9.0  156.9   \n316002721           0  2020-04-07 21:15:50  37.6012 -122.6846  8.8  145.0   \n\n           vessel_type    flag  \nmmsi                            \n316002721           30  Canada  \n316002721           30  Canada  \n316002721           30  Canada  \n316002721           30  Canada  \n316002721           30  Canada  \n...                ...     ...  \n316002721           30  Canada  \n316002721           30  Canada  \n316002721           30  Canada  \n316002721           30  Canada  \n316002721           30  Canada  \n\n[157 rows x 8 columns]",
      "text/html": "<div>\n<style scoped>\n    .dataframe tbody tr th:only-of-type {\n        vertical-align: middle;\n    }\n\n    .dataframe tbody tr th {\n        vertical-align: top;\n    }\n\n    .dataframe thead th {\n        text-align: right;\n    }\n</style>\n<table border=\"1\" class=\"dataframe\">\n  <thead>\n    <tr style=\"text-align: right;\">\n      <th></th>\n      <th>trajectory</th>\n      <th>time</th>\n      <th>lat</th>\n      <th>lon</th>\n      <th>sog</th>\n      <th>cog</th>\n      <th>vessel_type</th>\n      <th>flag</th>\n    </tr>\n    <tr>\n      <th>mmsi</th>\n      <th></th>\n      <th></th>\n      <th></th>\n      <th></th>\n      <th></th>\n      <th></th>\n      <th></th>\n      <th></th>\n    </tr>\n  </thead>\n  <tbody>\n    <tr>\n      <th>316002721</th>\n      <td>0</td>\n      <td>2020-04-06 05:42:48</td>\n      <td>37.6018</td>\n      <td>-122.6299</td>\n      <td>9.2</td>\n      <td>316.2</td>\n      <td>30</td>\n      <td>Canada</td>\n    </tr>\n    <tr>\n      <th>316002721</th>\n      <td>0</td>\n      <td>2020-04-06 05:45:48</td>\n      <td>37.6074</td>\n      <td>-122.6357</td>\n      <td>8.8</td>\n      <td>323.8</td>\n      <td>30</td>\n      <td>Canada</td>\n    </tr>\n    <tr>\n      <th>316002721</th>\n      <td>0</td>\n      <td>2020-04-06 05:47:17</td>\n      <td>37.6102</td>\n      <td>-122.6386</td>\n      <td>8.4</td>\n      <td>319.3</td>\n      <td>30</td>\n      <td>Canada</td>\n    </tr>\n    <tr>\n      <th>316002721</th>\n      <td>0</td>\n      <td>2020-04-06 05:50:18</td>\n      <td>37.6159</td>\n      <td>-122.6445</td>\n      <td>8.7</td>\n      <td>317.9</td>\n      <td>30</td>\n      <td>Canada</td>\n    </tr>\n    <tr>\n      <th>316002721</th>\n      <td>0</td>\n      <td>2020-04-06 05:51:19</td>\n      <td>37.6178</td>\n      <td>-122.6464</td>\n      <td>8.2</td>\n      <td>321.1</td>\n      <td>30</td>\n      <td>Canada</td>\n    </tr>\n    <tr>\n      <th>...</th>\n      <td>...</td>\n      <td>...</td>\n      <td>...</td>\n      <td>...</td>\n      <td>...</td>\n      <td>...</td>\n      <td>...</td>\n      <td>...</td>\n    </tr>\n    <tr>\n      <th>316002721</th>\n      <td>0</td>\n      <td>2020-04-07 21:10:47</td>\n      <td>37.6125</td>\n      <td>-122.6912</td>\n      <td>9.5</td>\n      <td>159.5</td>\n      <td>30</td>\n      <td>Canada</td>\n    </tr>\n    <tr>\n      <th>316002721</th>\n      <td>0</td>\n      <td>2020-04-07 21:12:17</td>\n      <td>37.6091</td>\n      <td>-122.6892</td>\n      <td>8.6</td>\n      <td>155.8</td>\n      <td>30</td>\n      <td>Canada</td>\n    </tr>\n    <tr>\n      <th>316002721</th>\n      <td>0</td>\n      <td>2020-04-07 21:13:47</td>\n      <td>37.6057</td>\n      <td>-122.6873</td>\n      <td>8.6</td>\n      <td>157.7</td>\n      <td>30</td>\n      <td>Canada</td>\n    </tr>\n    <tr>\n      <th>316002721</th>\n      <td>0</td>\n      <td>2020-04-07 21:14:48</td>\n      <td>37.6034</td>\n      <td>-122.6860</td>\n      <td>9.0</td>\n      <td>156.9</td>\n      <td>30</td>\n      <td>Canada</td>\n    </tr>\n    <tr>\n      <th>316002721</th>\n      <td>0</td>\n      <td>2020-04-07 21:15:50</td>\n      <td>37.6012</td>\n      <td>-122.6846</td>\n      <td>8.8</td>\n      <td>145.0</td>\n      <td>30</td>\n      <td>Canada</td>\n    </tr>\n  </tbody>\n</table>\n<p>157 rows × 8 columns</p>\n</div>"
     },
     "execution_count": 8,
     "metadata": {},
     "output_type": "execute_result"
    }
   ],
   "source": [
    "data.loc[[316002721]]"
   ],
   "metadata": {
    "collapsed": false,
    "ExecuteTime": {
     "start_time": "2023-04-22T17:09:08.140382Z",
     "end_time": "2023-04-22T17:09:08.158966Z"
    }
   }
  }
 ],
 "metadata": {
  "kernelspec": {
   "display_name": "Python 3",
   "language": "python",
   "name": "python3"
  },
  "language_info": {
   "codemirror_mode": {
    "name": "ipython",
    "version": 2
   },
   "file_extension": ".py",
   "mimetype": "text/x-python",
   "name": "python",
   "nbconvert_exporter": "python",
   "pygments_lexer": "ipython2",
   "version": "2.7.6"
  }
 },
 "nbformat": 4,
 "nbformat_minor": 0
}
